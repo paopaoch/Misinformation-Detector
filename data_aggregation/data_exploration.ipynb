{
 "cells": [
  {
   "cell_type": "markdown",
   "metadata": {},
   "source": [
    "# Data Exploration\n",
    "\n",
    "Exploring publicly available datasets"
   ]
  },
  {
   "cell_type": "code",
   "execution_count": 1,
   "metadata": {},
   "outputs": [],
   "source": [
    "import pandas as pd\n",
    "import numpy as np"
   ]
  },
  {
   "cell_type": "markdown",
   "metadata": {},
   "source": [
    "## NewsDataset\n",
    "\n",
    "Source: https://www.kaggle.com/datasets/emineyetm/fake-news-detection-datasets"
   ]
  },
  {
   "cell_type": "code",
   "execution_count": 2,
   "metadata": {},
   "outputs": [],
   "source": [
    "df1_fake = pd.read_csv(\"raw_data/NewsDataSet/Fake.csv\")\n",
    "df1_real = pd.read_csv(\"raw_data/NewsDataSet/True.csv\")"
   ]
  },
  {
   "cell_type": "code",
   "execution_count": 3,
   "metadata": {},
   "outputs": [
    {
     "data": {
      "text/html": [
       "<div>\n",
       "<style scoped>\n",
       "    .dataframe tbody tr th:only-of-type {\n",
       "        vertical-align: middle;\n",
       "    }\n",
       "\n",
       "    .dataframe tbody tr th {\n",
       "        vertical-align: top;\n",
       "    }\n",
       "\n",
       "    .dataframe thead th {\n",
       "        text-align: right;\n",
       "    }\n",
       "</style>\n",
       "<table border=\"1\" class=\"dataframe\">\n",
       "  <thead>\n",
       "    <tr style=\"text-align: right;\">\n",
       "      <th></th>\n",
       "      <th>title</th>\n",
       "      <th>text</th>\n",
       "      <th>subject</th>\n",
       "      <th>date</th>\n",
       "    </tr>\n",
       "  </thead>\n",
       "  <tbody>\n",
       "    <tr>\n",
       "      <th>0</th>\n",
       "      <td>Donald Trump Sends Out Embarrassing New Year’...</td>\n",
       "      <td>Donald Trump just couldn t wish all Americans ...</td>\n",
       "      <td>News</td>\n",
       "      <td>December 31, 2017</td>\n",
       "    </tr>\n",
       "    <tr>\n",
       "      <th>1</th>\n",
       "      <td>Drunk Bragging Trump Staffer Started Russian ...</td>\n",
       "      <td>House Intelligence Committee Chairman Devin Nu...</td>\n",
       "      <td>News</td>\n",
       "      <td>December 31, 2017</td>\n",
       "    </tr>\n",
       "    <tr>\n",
       "      <th>2</th>\n",
       "      <td>Sheriff David Clarke Becomes An Internet Joke...</td>\n",
       "      <td>On Friday, it was revealed that former Milwauk...</td>\n",
       "      <td>News</td>\n",
       "      <td>December 30, 2017</td>\n",
       "    </tr>\n",
       "    <tr>\n",
       "      <th>3</th>\n",
       "      <td>Trump Is So Obsessed He Even Has Obama’s Name...</td>\n",
       "      <td>On Christmas day, Donald Trump announced that ...</td>\n",
       "      <td>News</td>\n",
       "      <td>December 29, 2017</td>\n",
       "    </tr>\n",
       "    <tr>\n",
       "      <th>4</th>\n",
       "      <td>Pope Francis Just Called Out Donald Trump Dur...</td>\n",
       "      <td>Pope Francis used his annual Christmas Day mes...</td>\n",
       "      <td>News</td>\n",
       "      <td>December 25, 2017</td>\n",
       "    </tr>\n",
       "  </tbody>\n",
       "</table>\n",
       "</div>"
      ],
      "text/plain": [
       "                                               title  \\\n",
       "0   Donald Trump Sends Out Embarrassing New Year’...   \n",
       "1   Drunk Bragging Trump Staffer Started Russian ...   \n",
       "2   Sheriff David Clarke Becomes An Internet Joke...   \n",
       "3   Trump Is So Obsessed He Even Has Obama’s Name...   \n",
       "4   Pope Francis Just Called Out Donald Trump Dur...   \n",
       "\n",
       "                                                text subject  \\\n",
       "0  Donald Trump just couldn t wish all Americans ...    News   \n",
       "1  House Intelligence Committee Chairman Devin Nu...    News   \n",
       "2  On Friday, it was revealed that former Milwauk...    News   \n",
       "3  On Christmas day, Donald Trump announced that ...    News   \n",
       "4  Pope Francis used his annual Christmas Day mes...    News   \n",
       "\n",
       "                date  \n",
       "0  December 31, 2017  \n",
       "1  December 31, 2017  \n",
       "2  December 30, 2017  \n",
       "3  December 29, 2017  \n",
       "4  December 25, 2017  "
      ]
     },
     "execution_count": 3,
     "metadata": {},
     "output_type": "execute_result"
    }
   ],
   "source": [
    "df1_fake.head()"
   ]
  },
  {
   "cell_type": "code",
   "execution_count": 4,
   "metadata": {},
   "outputs": [
    {
     "data": {
      "text/plain": [
       "'No matter what Donald Trump does or where he goes, he s never actually doing the right thing and fulfilling his duties as POTUS.One might think that after suffering such a monstrous fail with his American Health Care Act, the president might double down and get right back to work on his quest to somehow  improve  Obamacare, which he insists is awful despite the fact the Americans overwhelmingly approve of it. But no   instead, Trump decided to spend his Saturday the way he s spent pretty much every Saturday since he became president   by playing golf.In the short 9 weeks of his presidency, Trump has already gone golfing 12 times   which is far more than any of his predecessors and former President Barack Obama, whom Trump once criticized for taking any downtime to play golf. Trump has been getting blasted for his weekend golfing getaways, and the White House has gone to great lengths to hide it:However, Trump s cover was blown when some Instagram photographs of Trump surfaced, revealing to Americans what Trump REALLY does when he has his  meetings. Pool was told Trump was in meetings at Trump National this afternoon. This Instagram photo posted from the course says otherwise pic.twitter.com/WMudqofGmO  Josh Billinson (@jbillinson) March 25, 2017As you can imagine, the internet didn t take kindly to being lied to, and went after Trump. One of the gems that resurfaced from this Twitter attack was this amazing old tweet from White House Press Secretary Sean Spicer   which is going to basically make Trump explode:Wow. That s one tweet Spicer probably wish he d never posted during Obama s presidency, because now it s insulting HIS boss! To make this even more humiliating for Spicer and Trump, Spicer recently defended Trump s  privacy  when he was questioned about how often Trump golfs.Twitter is basically losing it over this hypocrisy, and we can t help but laugh along:@seanspicer ? pic.twitter.com/pw2LQVmW1h  Parts Unknown (@nia_negasi) March 25, 2017   Featured images via Gage Skidmore / Flickr'"
      ]
     },
     "execution_count": 4,
     "metadata": {},
     "output_type": "execute_result"
    }
   ],
   "source": [
    "df1_fake.iloc[2000][\"text\"]"
   ]
  },
  {
   "cell_type": "code",
   "execution_count": 5,
   "metadata": {},
   "outputs": [
    {
     "data": {
      "text/html": [
       "<div>\n",
       "<style scoped>\n",
       "    .dataframe tbody tr th:only-of-type {\n",
       "        vertical-align: middle;\n",
       "    }\n",
       "\n",
       "    .dataframe tbody tr th {\n",
       "        vertical-align: top;\n",
       "    }\n",
       "\n",
       "    .dataframe thead th {\n",
       "        text-align: right;\n",
       "    }\n",
       "</style>\n",
       "<table border=\"1\" class=\"dataframe\">\n",
       "  <thead>\n",
       "    <tr style=\"text-align: right;\">\n",
       "      <th></th>\n",
       "      <th>title</th>\n",
       "      <th>text</th>\n",
       "      <th>subject</th>\n",
       "      <th>date</th>\n",
       "    </tr>\n",
       "  </thead>\n",
       "  <tbody>\n",
       "    <tr>\n",
       "      <th>0</th>\n",
       "      <td>As U.S. budget fight looms, Republicans flip t...</td>\n",
       "      <td>WASHINGTON (Reuters) - The head of a conservat...</td>\n",
       "      <td>politicsNews</td>\n",
       "      <td>December 31, 2017</td>\n",
       "    </tr>\n",
       "    <tr>\n",
       "      <th>1</th>\n",
       "      <td>U.S. military to accept transgender recruits o...</td>\n",
       "      <td>WASHINGTON (Reuters) - Transgender people will...</td>\n",
       "      <td>politicsNews</td>\n",
       "      <td>December 29, 2017</td>\n",
       "    </tr>\n",
       "    <tr>\n",
       "      <th>2</th>\n",
       "      <td>Senior U.S. Republican senator: 'Let Mr. Muell...</td>\n",
       "      <td>WASHINGTON (Reuters) - The special counsel inv...</td>\n",
       "      <td>politicsNews</td>\n",
       "      <td>December 31, 2017</td>\n",
       "    </tr>\n",
       "    <tr>\n",
       "      <th>3</th>\n",
       "      <td>FBI Russia probe helped by Australian diplomat...</td>\n",
       "      <td>WASHINGTON (Reuters) - Trump campaign adviser ...</td>\n",
       "      <td>politicsNews</td>\n",
       "      <td>December 30, 2017</td>\n",
       "    </tr>\n",
       "    <tr>\n",
       "      <th>4</th>\n",
       "      <td>Trump wants Postal Service to charge 'much mor...</td>\n",
       "      <td>SEATTLE/WASHINGTON (Reuters) - President Donal...</td>\n",
       "      <td>politicsNews</td>\n",
       "      <td>December 29, 2017</td>\n",
       "    </tr>\n",
       "  </tbody>\n",
       "</table>\n",
       "</div>"
      ],
      "text/plain": [
       "                                               title  \\\n",
       "0  As U.S. budget fight looms, Republicans flip t...   \n",
       "1  U.S. military to accept transgender recruits o...   \n",
       "2  Senior U.S. Republican senator: 'Let Mr. Muell...   \n",
       "3  FBI Russia probe helped by Australian diplomat...   \n",
       "4  Trump wants Postal Service to charge 'much mor...   \n",
       "\n",
       "                                                text       subject  \\\n",
       "0  WASHINGTON (Reuters) - The head of a conservat...  politicsNews   \n",
       "1  WASHINGTON (Reuters) - Transgender people will...  politicsNews   \n",
       "2  WASHINGTON (Reuters) - The special counsel inv...  politicsNews   \n",
       "3  WASHINGTON (Reuters) - Trump campaign adviser ...  politicsNews   \n",
       "4  SEATTLE/WASHINGTON (Reuters) - President Donal...  politicsNews   \n",
       "\n",
       "                 date  \n",
       "0  December 31, 2017   \n",
       "1  December 29, 2017   \n",
       "2  December 31, 2017   \n",
       "3  December 30, 2017   \n",
       "4  December 29, 2017   "
      ]
     },
     "execution_count": 5,
     "metadata": {},
     "output_type": "execute_result"
    }
   ],
   "source": [
    "df1_real.head()"
   ]
  },
  {
   "cell_type": "code",
   "execution_count": 6,
   "metadata": {},
   "outputs": [
    {
     "data": {
      "text/plain": [
       "'WASHINGTON (Reuters) - U.S. Secretary of State Rex Tillerson said on Sunday the firing of three ballistic missiles by North Korea this week was a provocative act but that the United States will continue to seek a peaceful resolution.  “We do view it as a provocative act against the United States and our allies,” Tillerson said in an interview on Fox News Sunday. “We’re going to continue our peaceful pressure campaign as I have described it, working with allies, working with China as well to see if we can bring the regime in Pyongyang to the negotiating table.” '"
      ]
     },
     "execution_count": 6,
     "metadata": {},
     "output_type": "execute_result"
    }
   ],
   "source": [
    "df1_real.iloc[2000][\"text\"]"
   ]
  },
  {
   "cell_type": "code",
   "execution_count": 7,
   "metadata": {},
   "outputs": [
    {
     "data": {
      "text/html": [
       "<div>\n",
       "<style scoped>\n",
       "    .dataframe tbody tr th:only-of-type {\n",
       "        vertical-align: middle;\n",
       "    }\n",
       "\n",
       "    .dataframe tbody tr th {\n",
       "        vertical-align: top;\n",
       "    }\n",
       "\n",
       "    .dataframe thead th {\n",
       "        text-align: right;\n",
       "    }\n",
       "</style>\n",
       "<table border=\"1\" class=\"dataframe\">\n",
       "  <thead>\n",
       "    <tr style=\"text-align: right;\">\n",
       "      <th></th>\n",
       "      <th>title</th>\n",
       "      <th>text</th>\n",
       "      <th>date</th>\n",
       "    </tr>\n",
       "    <tr>\n",
       "      <th>subject</th>\n",
       "      <th></th>\n",
       "      <th></th>\n",
       "      <th></th>\n",
       "    </tr>\n",
       "  </thead>\n",
       "  <tbody>\n",
       "    <tr>\n",
       "      <th>Government News</th>\n",
       "      <td>1570</td>\n",
       "      <td>1570</td>\n",
       "      <td>1570</td>\n",
       "    </tr>\n",
       "    <tr>\n",
       "      <th>Middle-east</th>\n",
       "      <td>778</td>\n",
       "      <td>778</td>\n",
       "      <td>778</td>\n",
       "    </tr>\n",
       "    <tr>\n",
       "      <th>News</th>\n",
       "      <td>9050</td>\n",
       "      <td>9050</td>\n",
       "      <td>9050</td>\n",
       "    </tr>\n",
       "    <tr>\n",
       "      <th>US_News</th>\n",
       "      <td>783</td>\n",
       "      <td>783</td>\n",
       "      <td>783</td>\n",
       "    </tr>\n",
       "    <tr>\n",
       "      <th>left-news</th>\n",
       "      <td>4459</td>\n",
       "      <td>4459</td>\n",
       "      <td>4459</td>\n",
       "    </tr>\n",
       "    <tr>\n",
       "      <th>politics</th>\n",
       "      <td>6841</td>\n",
       "      <td>6841</td>\n",
       "      <td>6841</td>\n",
       "    </tr>\n",
       "  </tbody>\n",
       "</table>\n",
       "</div>"
      ],
      "text/plain": [
       "                 title  text  date\n",
       "subject                           \n",
       "Government News   1570  1570  1570\n",
       "Middle-east        778   778   778\n",
       "News              9050  9050  9050\n",
       "US_News            783   783   783\n",
       "left-news         4459  4459  4459\n",
       "politics          6841  6841  6841"
      ]
     },
     "execution_count": 7,
     "metadata": {},
     "output_type": "execute_result"
    }
   ],
   "source": [
    "df1_fake.groupby('subject').count()"
   ]
  },
  {
   "cell_type": "code",
   "execution_count": 8,
   "metadata": {},
   "outputs": [
    {
     "data": {
      "text/html": [
       "<div>\n",
       "<style scoped>\n",
       "    .dataframe tbody tr th:only-of-type {\n",
       "        vertical-align: middle;\n",
       "    }\n",
       "\n",
       "    .dataframe tbody tr th {\n",
       "        vertical-align: top;\n",
       "    }\n",
       "\n",
       "    .dataframe thead th {\n",
       "        text-align: right;\n",
       "    }\n",
       "</style>\n",
       "<table border=\"1\" class=\"dataframe\">\n",
       "  <thead>\n",
       "    <tr style=\"text-align: right;\">\n",
       "      <th></th>\n",
       "      <th>title</th>\n",
       "      <th>text</th>\n",
       "      <th>date</th>\n",
       "    </tr>\n",
       "    <tr>\n",
       "      <th>subject</th>\n",
       "      <th></th>\n",
       "      <th></th>\n",
       "      <th></th>\n",
       "    </tr>\n",
       "  </thead>\n",
       "  <tbody>\n",
       "    <tr>\n",
       "      <th>politicsNews</th>\n",
       "      <td>11272</td>\n",
       "      <td>11272</td>\n",
       "      <td>11272</td>\n",
       "    </tr>\n",
       "    <tr>\n",
       "      <th>worldnews</th>\n",
       "      <td>10145</td>\n",
       "      <td>10145</td>\n",
       "      <td>10145</td>\n",
       "    </tr>\n",
       "  </tbody>\n",
       "</table>\n",
       "</div>"
      ],
      "text/plain": [
       "              title   text   date\n",
       "subject                          \n",
       "politicsNews  11272  11272  11272\n",
       "worldnews     10145  10145  10145"
      ]
     },
     "execution_count": 8,
     "metadata": {},
     "output_type": "execute_result"
    }
   ],
   "source": [
    "df1_real.groupby('subject').count()"
   ]
  },
  {
   "cell_type": "code",
   "execution_count": 9,
   "metadata": {},
   "outputs": [
    {
     "name": "stdout",
     "output_type": "stream",
     "text": [
      "Length of real:  21417\n",
      "Length of real:  23481\n"
     ]
    }
   ],
   "source": [
    "print(\"Length of real: \", len(df1_real))\n",
    "print(\"Length of real: \", len(df1_fake))"
   ]
  },
  {
   "cell_type": "markdown",
   "metadata": {},
   "source": [
    "The `subject` columns are probably not useful. They are completely independent labels.\n",
    "\n",
    "This dataset is very politics heavy. It is not clear from just eye scanning whether the fake and true rows are fake or not. It is more on opinion base vs fact rather than true and false.\n",
    "\n",
    "A lot of cleaning is also needed. For example, the word `Reuters` shows up multiple times in real but not fake so we need to make sure its remoced or else the model will just predict based on that."
   ]
  },
  {
   "cell_type": "markdown",
   "metadata": {},
   "source": [
    "## FakeNewsNet\n",
    "\n",
    "source: https://github.com/KaiDMML/FakeNewsNet/tree/master/dataset"
   ]
  },
  {
   "cell_type": "code",
   "execution_count": 10,
   "metadata": {},
   "outputs": [],
   "source": [
    "df2_real_gossip = pd.read_csv(\"raw_data/FakeNewsNet/gossipcop_real.csv\")\n",
    "df2_real_politifact = pd.read_csv(\"raw_data/FakeNewsNet/politifact_real.csv\")\n",
    "df2_fake_gossip = pd.read_csv(\"raw_data/FakeNewsNet/gossipcop_fake.csv\")\n",
    "df2_fake_politifact = pd.read_csv(\"raw_data/FakeNewsNet/politifact_fake.csv\")"
   ]
  },
  {
   "cell_type": "code",
   "execution_count": 11,
   "metadata": {},
   "outputs": [
    {
     "data": {
      "text/html": [
       "<div>\n",
       "<style scoped>\n",
       "    .dataframe tbody tr th:only-of-type {\n",
       "        vertical-align: middle;\n",
       "    }\n",
       "\n",
       "    .dataframe tbody tr th {\n",
       "        vertical-align: top;\n",
       "    }\n",
       "\n",
       "    .dataframe thead th {\n",
       "        text-align: right;\n",
       "    }\n",
       "</style>\n",
       "<table border=\"1\" class=\"dataframe\">\n",
       "  <thead>\n",
       "    <tr style=\"text-align: right;\">\n",
       "      <th></th>\n",
       "      <th>id</th>\n",
       "      <th>news_url</th>\n",
       "      <th>title</th>\n",
       "      <th>tweet_ids</th>\n",
       "    </tr>\n",
       "  </thead>\n",
       "  <tbody>\n",
       "    <tr>\n",
       "      <th>0</th>\n",
       "      <td>gossipcop-882573</td>\n",
       "      <td>https://www.brides.com/story/teen-mom-jenelle-...</td>\n",
       "      <td>Teen Mom Star Jenelle Evans' Wedding Dress Is ...</td>\n",
       "      <td>912371411146149888\\t912371528343408641\\t912372...</td>\n",
       "    </tr>\n",
       "    <tr>\n",
       "      <th>1</th>\n",
       "      <td>gossipcop-875924</td>\n",
       "      <td>https://www.dailymail.co.uk/tvshowbiz/article-...</td>\n",
       "      <td>Kylie Jenner refusing to discuss Tyga on Life ...</td>\n",
       "      <td>901989917546426369\\t901989992074969089\\t901990...</td>\n",
       "    </tr>\n",
       "    <tr>\n",
       "      <th>2</th>\n",
       "      <td>gossipcop-894416</td>\n",
       "      <td>https://en.wikipedia.org/wiki/Quinn_Perkins</td>\n",
       "      <td>Quinn Perkins</td>\n",
       "      <td>931263637246881792\\t931265332022579201\\t931265...</td>\n",
       "    </tr>\n",
       "    <tr>\n",
       "      <th>3</th>\n",
       "      <td>gossipcop-857248</td>\n",
       "      <td>https://www.refinery29.com/en-us/2018/03/19192...</td>\n",
       "      <td>I Tried Kim Kardashian's Butt Workout &amp; Am For...</td>\n",
       "      <td>868114761723936769\\t868122567910936576\\t868128...</td>\n",
       "    </tr>\n",
       "    <tr>\n",
       "      <th>4</th>\n",
       "      <td>gossipcop-884684</td>\n",
       "      <td>https://www.cnn.com/2017/10/04/entertainment/c...</td>\n",
       "      <td>Celine Dion donates concert proceeds to Vegas ...</td>\n",
       "      <td>915528047004209152\\t915529285171122176\\t915530...</td>\n",
       "    </tr>\n",
       "  </tbody>\n",
       "</table>\n",
       "</div>"
      ],
      "text/plain": [
       "                 id                                           news_url  \\\n",
       "0  gossipcop-882573  https://www.brides.com/story/teen-mom-jenelle-...   \n",
       "1  gossipcop-875924  https://www.dailymail.co.uk/tvshowbiz/article-...   \n",
       "2  gossipcop-894416        https://en.wikipedia.org/wiki/Quinn_Perkins   \n",
       "3  gossipcop-857248  https://www.refinery29.com/en-us/2018/03/19192...   \n",
       "4  gossipcop-884684  https://www.cnn.com/2017/10/04/entertainment/c...   \n",
       "\n",
       "                                               title  \\\n",
       "0  Teen Mom Star Jenelle Evans' Wedding Dress Is ...   \n",
       "1  Kylie Jenner refusing to discuss Tyga on Life ...   \n",
       "2                                      Quinn Perkins   \n",
       "3  I Tried Kim Kardashian's Butt Workout & Am For...   \n",
       "4  Celine Dion donates concert proceeds to Vegas ...   \n",
       "\n",
       "                                           tweet_ids  \n",
       "0  912371411146149888\\t912371528343408641\\t912372...  \n",
       "1  901989917546426369\\t901989992074969089\\t901990...  \n",
       "2  931263637246881792\\t931265332022579201\\t931265...  \n",
       "3  868114761723936769\\t868122567910936576\\t868128...  \n",
       "4  915528047004209152\\t915529285171122176\\t915530...  "
      ]
     },
     "execution_count": 11,
     "metadata": {},
     "output_type": "execute_result"
    }
   ],
   "source": [
    "df2_real_gossip.head()"
   ]
  },
  {
   "cell_type": "code",
   "execution_count": 12,
   "metadata": {},
   "outputs": [
    {
     "data": {
      "text/html": [
       "<div>\n",
       "<style scoped>\n",
       "    .dataframe tbody tr th:only-of-type {\n",
       "        vertical-align: middle;\n",
       "    }\n",
       "\n",
       "    .dataframe tbody tr th {\n",
       "        vertical-align: top;\n",
       "    }\n",
       "\n",
       "    .dataframe thead th {\n",
       "        text-align: right;\n",
       "    }\n",
       "</style>\n",
       "<table border=\"1\" class=\"dataframe\">\n",
       "  <thead>\n",
       "    <tr style=\"text-align: right;\">\n",
       "      <th></th>\n",
       "      <th>id</th>\n",
       "      <th>news_url</th>\n",
       "      <th>title</th>\n",
       "      <th>tweet_ids</th>\n",
       "    </tr>\n",
       "  </thead>\n",
       "  <tbody>\n",
       "    <tr>\n",
       "      <th>0</th>\n",
       "      <td>gossipcop-2493749932</td>\n",
       "      <td>www.dailymail.co.uk/tvshowbiz/article-5874213/...</td>\n",
       "      <td>Did Miley Cyrus and Liam Hemsworth secretly ge...</td>\n",
       "      <td>284329075902926848\\t284332744559968256\\t284335...</td>\n",
       "    </tr>\n",
       "    <tr>\n",
       "      <th>1</th>\n",
       "      <td>gossipcop-4580247171</td>\n",
       "      <td>hollywoodlife.com/2018/05/05/paris-jackson-car...</td>\n",
       "      <td>Paris Jackson &amp; Cara Delevingne Enjoy Night Ou...</td>\n",
       "      <td>992895508267130880\\t992897935418503169\\t992899...</td>\n",
       "    </tr>\n",
       "    <tr>\n",
       "      <th>2</th>\n",
       "      <td>gossipcop-941805037</td>\n",
       "      <td>variety.com/2017/biz/news/tax-march-donald-tru...</td>\n",
       "      <td>Celebrities Join Tax March in Protest of Donal...</td>\n",
       "      <td>853359353532829696\\t853359576543920128\\t853359...</td>\n",
       "    </tr>\n",
       "    <tr>\n",
       "      <th>3</th>\n",
       "      <td>gossipcop-2547891536</td>\n",
       "      <td>www.dailymail.co.uk/femail/article-3499192/Do-...</td>\n",
       "      <td>Cindy Crawford's daughter Kaia Gerber wears a ...</td>\n",
       "      <td>988821905196158981\\t988824206556172288\\t988825...</td>\n",
       "    </tr>\n",
       "    <tr>\n",
       "      <th>4</th>\n",
       "      <td>gossipcop-5476631226</td>\n",
       "      <td>variety.com/2018/film/news/list-2018-oscar-nom...</td>\n",
       "      <td>Full List of 2018 Oscar Nominations – Variety</td>\n",
       "      <td>955792793632432131\\t955795063925301249\\t955798...</td>\n",
       "    </tr>\n",
       "  </tbody>\n",
       "</table>\n",
       "</div>"
      ],
      "text/plain": [
       "                     id                                           news_url  \\\n",
       "0  gossipcop-2493749932  www.dailymail.co.uk/tvshowbiz/article-5874213/...   \n",
       "1  gossipcop-4580247171  hollywoodlife.com/2018/05/05/paris-jackson-car...   \n",
       "2   gossipcop-941805037  variety.com/2017/biz/news/tax-march-donald-tru...   \n",
       "3  gossipcop-2547891536  www.dailymail.co.uk/femail/article-3499192/Do-...   \n",
       "4  gossipcop-5476631226  variety.com/2018/film/news/list-2018-oscar-nom...   \n",
       "\n",
       "                                               title  \\\n",
       "0  Did Miley Cyrus and Liam Hemsworth secretly ge...   \n",
       "1  Paris Jackson & Cara Delevingne Enjoy Night Ou...   \n",
       "2  Celebrities Join Tax March in Protest of Donal...   \n",
       "3  Cindy Crawford's daughter Kaia Gerber wears a ...   \n",
       "4      Full List of 2018 Oscar Nominations – Variety   \n",
       "\n",
       "                                           tweet_ids  \n",
       "0  284329075902926848\\t284332744559968256\\t284335...  \n",
       "1  992895508267130880\\t992897935418503169\\t992899...  \n",
       "2  853359353532829696\\t853359576543920128\\t853359...  \n",
       "3  988821905196158981\\t988824206556172288\\t988825...  \n",
       "4  955792793632432131\\t955795063925301249\\t955798...  "
      ]
     },
     "execution_count": 12,
     "metadata": {},
     "output_type": "execute_result"
    }
   ],
   "source": [
    "df2_fake_gossip.head()"
   ]
  },
  {
   "cell_type": "markdown",
   "metadata": {},
   "source": [
    "This dataset is very comprehensive but we will need the twitter API which is unfortunately not free if we want to use more than 500 posts.\n",
    "\n",
    "This is probably not realistic."
   ]
  },
  {
   "cell_type": "markdown",
   "metadata": {},
   "source": [
    "## COVID Misinfo\n",
    "\n",
    "Source1: https://zenodo.org/records/4557828 (misinfo vid)\n",
    "\n",
    "Source2: https://esoc.princeton.edu/publications/esoc-covid-19-misinformation-dataset"
   ]
  },
  {
   "cell_type": "code",
   "execution_count": 13,
   "metadata": {},
   "outputs": [],
   "source": [
    "df3_vid = pd.read_csv(\"raw_data/CovidMisInfo/covid-misinfo-videos.csv\")"
   ]
  },
  {
   "cell_type": "code",
   "execution_count": 14,
   "metadata": {},
   "outputs": [
    {
     "data": {
      "text/html": [
       "<div>\n",
       "<style scoped>\n",
       "    .dataframe tbody tr th:only-of-type {\n",
       "        vertical-align: middle;\n",
       "    }\n",
       "\n",
       "    .dataframe tbody tr th {\n",
       "        vertical-align: top;\n",
       "    }\n",
       "\n",
       "    .dataframe thead th {\n",
       "        text-align: right;\n",
       "    }\n",
       "</style>\n",
       "<table border=\"1\" class=\"dataframe\">\n",
       "  <thead>\n",
       "    <tr style=\"text-align: right;\">\n",
       "      <th></th>\n",
       "      <th>youtube_link</th>\n",
       "      <th>video_title</th>\n",
       "      <th>video_description</th>\n",
       "      <th>view_count</th>\n",
       "      <th>channel_id</th>\n",
       "      <th>subscriber_count</th>\n",
       "      <th>removal_timestamp</th>\n",
       "      <th>published_timestamp</th>\n",
       "      <th>archive_url</th>\n",
       "      <th>facebook_graph_reactions</th>\n",
       "      <th>facebook_graph_comments</th>\n",
       "      <th>facebook_graph_shares</th>\n",
       "      <th>twitter_post_ids</th>\n",
       "      <th>facebook_post_ids</th>\n",
       "    </tr>\n",
       "  </thead>\n",
       "  <tbody>\n",
       "    <tr>\n",
       "      <th>0</th>\n",
       "      <td>https://youtube.com/watch?v=-0ERhEl3n4U</td>\n",
       "      <td>DA NON PERDERE! DR RASHID BUTTAR VS GATES E FAUCI</td>\n",
       "      <td>N. B. Per il RISPETTO di tutti, non saranno ap...</td>\n",
       "      <td>NaN</td>\n",
       "      <td>NaN</td>\n",
       "      <td>NaN</td>\n",
       "      <td>NaN</td>\n",
       "      <td>NaN</td>\n",
       "      <td>NaN</td>\n",
       "      <td>700</td>\n",
       "      <td>183</td>\n",
       "      <td>1300</td>\n",
       "      <td>[1254689102546558976, 1253642806704386048, 125...</td>\n",
       "      <td>[3396214160413490, 368262960761073, 5298753012...</td>\n",
       "    </tr>\n",
       "    <tr>\n",
       "      <th>1</th>\n",
       "      <td>https://youtube.com/watch?v=-0FFXqMkwLM</td>\n",
       "      <td>Coronavirus clinicamente non esiste più! Alber...</td>\n",
       "      <td>Coronavirus clinicamente non esiste più! Alber...</td>\n",
       "      <td>NaN</td>\n",
       "      <td>NaN</td>\n",
       "      <td>NaN</td>\n",
       "      <td>NaN</td>\n",
       "      <td>NaN</td>\n",
       "      <td>NaN</td>\n",
       "      <td>8921</td>\n",
       "      <td>6204</td>\n",
       "      <td>2310</td>\n",
       "      <td>[1267576569213698048, 1267550551459409920, 126...</td>\n",
       "      <td>[868056943670381, 655605928364978, 22862780483...</td>\n",
       "    </tr>\n",
       "    <tr>\n",
       "      <th>2</th>\n",
       "      <td>https://youtube.com/watch?v=-0HCr9Y4qiQ</td>\n",
       "      <td>Dr Erickson COVID 19</td>\n",
       "      <td>#COV #Corona #COVID</td>\n",
       "      <td>NaN</td>\n",
       "      <td>NaN</td>\n",
       "      <td>NaN</td>\n",
       "      <td>NaN</td>\n",
       "      <td>NaN</td>\n",
       "      <td>NaN</td>\n",
       "      <td>82</td>\n",
       "      <td>38</td>\n",
       "      <td>124</td>\n",
       "      <td>[1255642644807639040, 1255637802710114304, 125...</td>\n",
       "      <td>[228854528344019, 3223708224340040, 3390196817...</td>\n",
       "    </tr>\n",
       "    <tr>\n",
       "      <th>3</th>\n",
       "      <td>https://youtube.com/watch?v=-1PJjn0Z6rw</td>\n",
       "      <td>Doctors Speak Out About COVID 19 &amp; The Violent...</td>\n",
       "      <td>Created &amp; Edited By Ryan Cristián The only que...</td>\n",
       "      <td>1896.0</td>\n",
       "      <td>UC_ClYrAtDNAGy5J0N-AwBNw</td>\n",
       "      <td>8.0</td>\n",
       "      <td>2020-05-16 23:31:30</td>\n",
       "      <td>2020-05-11 0:00:00</td>\n",
       "      <td>http://web.archive.org/web/20200511183250/http...</td>\n",
       "      <td>1500</td>\n",
       "      <td>540</td>\n",
       "      <td>1167</td>\n",
       "      <td>[1260591220230885376, 1260557512350334976, 126...</td>\n",
       "      <td>[3222231977789105, 2607261019494178, 297814419...</td>\n",
       "    </tr>\n",
       "    <tr>\n",
       "      <th>4</th>\n",
       "      <td>https://youtube.com/watch?v=-1g-Gta858E</td>\n",
       "      <td>Noticia - Descubierto el primer fármaco eficaz...</td>\n",
       "      <td>Descubierto el primer fármaco eficaz contra el...</td>\n",
       "      <td>NaN</td>\n",
       "      <td>NaN</td>\n",
       "      <td>NaN</td>\n",
       "      <td>NaN</td>\n",
       "      <td>NaN</td>\n",
       "      <td>NaN</td>\n",
       "      <td>2</td>\n",
       "      <td>0</td>\n",
       "      <td>1</td>\n",
       "      <td>[1273255975911329792]</td>\n",
       "      <td>[3124940617566423]</td>\n",
       "    </tr>\n",
       "  </tbody>\n",
       "</table>\n",
       "</div>"
      ],
      "text/plain": [
       "                              youtube_link  \\\n",
       "0  https://youtube.com/watch?v=-0ERhEl3n4U   \n",
       "1  https://youtube.com/watch?v=-0FFXqMkwLM   \n",
       "2  https://youtube.com/watch?v=-0HCr9Y4qiQ   \n",
       "3  https://youtube.com/watch?v=-1PJjn0Z6rw   \n",
       "4  https://youtube.com/watch?v=-1g-Gta858E   \n",
       "\n",
       "                                         video_title  \\\n",
       "0  DA NON PERDERE! DR RASHID BUTTAR VS GATES E FAUCI   \n",
       "1  Coronavirus clinicamente non esiste più! Alber...   \n",
       "2                               Dr Erickson COVID 19   \n",
       "3  Doctors Speak Out About COVID 19 & The Violent...   \n",
       "4  Noticia - Descubierto el primer fármaco eficaz...   \n",
       "\n",
       "                                   video_description  view_count  \\\n",
       "0  N. B. Per il RISPETTO di tutti, non saranno ap...         NaN   \n",
       "1  Coronavirus clinicamente non esiste più! Alber...         NaN   \n",
       "2                                #COV #Corona #COVID         NaN   \n",
       "3  Created & Edited By Ryan Cristián The only que...      1896.0   \n",
       "4  Descubierto el primer fármaco eficaz contra el...         NaN   \n",
       "\n",
       "                 channel_id  subscriber_count    removal_timestamp  \\\n",
       "0                       NaN               NaN                  NaN   \n",
       "1                       NaN               NaN                  NaN   \n",
       "2                       NaN               NaN                  NaN   \n",
       "3  UC_ClYrAtDNAGy5J0N-AwBNw               8.0  2020-05-16 23:31:30   \n",
       "4                       NaN               NaN                  NaN   \n",
       "\n",
       "  published_timestamp                                        archive_url  \\\n",
       "0                 NaN                                                NaN   \n",
       "1                 NaN                                                NaN   \n",
       "2                 NaN                                                NaN   \n",
       "3  2020-05-11 0:00:00  http://web.archive.org/web/20200511183250/http...   \n",
       "4                 NaN                                                NaN   \n",
       "\n",
       "   facebook_graph_reactions  facebook_graph_comments  facebook_graph_shares  \\\n",
       "0                       700                      183                   1300   \n",
       "1                      8921                     6204                   2310   \n",
       "2                        82                       38                    124   \n",
       "3                      1500                      540                   1167   \n",
       "4                         2                        0                      1   \n",
       "\n",
       "                                    twitter_post_ids  \\\n",
       "0  [1254689102546558976, 1253642806704386048, 125...   \n",
       "1  [1267576569213698048, 1267550551459409920, 126...   \n",
       "2  [1255642644807639040, 1255637802710114304, 125...   \n",
       "3  [1260591220230885376, 1260557512350334976, 126...   \n",
       "4                              [1273255975911329792]   \n",
       "\n",
       "                                   facebook_post_ids  \n",
       "0  [3396214160413490, 368262960761073, 5298753012...  \n",
       "1  [868056943670381, 655605928364978, 22862780483...  \n",
       "2  [228854528344019, 3223708224340040, 3390196817...  \n",
       "3  [3222231977789105, 2607261019494178, 297814419...  \n",
       "4                                 [3124940617566423]  "
      ]
     },
     "execution_count": 14,
     "metadata": {},
     "output_type": "execute_result"
    }
   ],
   "source": [
    "df3_vid.head()"
   ]
  },
  {
   "cell_type": "markdown",
   "metadata": {},
   "source": [
    "This dataset is not labeled. Also its very limited for three reasons:\n",
    "\n",
    "1. facebook post API required\n",
    "2. X API required\n",
    "3. No text from video and only video title and description available"
   ]
  },
  {
   "cell_type": "code",
   "execution_count": 15,
   "metadata": {},
   "outputs": [
    {
     "name": "stderr",
     "output_type": "stream",
     "text": [
      "/Users/paopao_ch/anaconda3/lib/python3.11/site-packages/openpyxl/worksheet/_reader.py:329: UserWarning: Data Validation extension is not supported and will be removed\n",
      "  warn(msg)\n"
     ]
    }
   ],
   "source": [
    "df3_jns = pd.read_excel(\"raw_data/CovidMisInfo/jns-covid_misinfo_2021-03-06_Final_Clean.xlsx\")"
   ]
  },
  {
   "cell_type": "code",
   "execution_count": 16,
   "metadata": {},
   "outputs": [
    {
     "data": {
      "text/html": [
       "<div>\n",
       "<style scoped>\n",
       "    .dataframe tbody tr th:only-of-type {\n",
       "        vertical-align: middle;\n",
       "    }\n",
       "\n",
       "    .dataframe tbody tr th {\n",
       "        vertical-align: top;\n",
       "    }\n",
       "\n",
       "    .dataframe thead th {\n",
       "        text-align: right;\n",
       "    }\n",
       "</style>\n",
       "<table border=\"1\" class=\"dataframe\">\n",
       "  <thead>\n",
       "    <tr style=\"text-align: right;\">\n",
       "      <th></th>\n",
       "      <th>s_no</th>\n",
       "      <th>Reported_On</th>\n",
       "      <th>Additional_Reporting</th>\n",
       "      <th>Retrieve_from_1</th>\n",
       "      <th>Retrieve_from_2</th>\n",
       "      <th>Retrieve_from_3</th>\n",
       "      <th>Twitter_Reference</th>\n",
       "      <th>Direct_Post_1</th>\n",
       "      <th>Direct_Post_2</th>\n",
       "      <th>Direct_Post_3</th>\n",
       "      <th>...</th>\n",
       "      <th>Motive_Description</th>\n",
       "      <th>Source</th>\n",
       "      <th>Source_Description</th>\n",
       "      <th>Distrib_Channel</th>\n",
       "      <th>Misinfo_Type</th>\n",
       "      <th>Key_Words</th>\n",
       "      <th>Summary</th>\n",
       "      <th>Coder</th>\n",
       "      <th>Notes</th>\n",
       "      <th>Region</th>\n",
       "    </tr>\n",
       "  </thead>\n",
       "  <tbody>\n",
       "    <tr>\n",
       "      <th>0</th>\n",
       "      <td>1</td>\n",
       "      <td>https://www.buzzfeednews.com/article/ryanhates...</td>\n",
       "      <td>NaN</td>\n",
       "      <td>https://www.buzzfeednews.com/article/ryanhates...</td>\n",
       "      <td>NaN</td>\n",
       "      <td>NaN</td>\n",
       "      <td>0.0</td>\n",
       "      <td>NaN</td>\n",
       "      <td>NaN</td>\n",
       "      <td>NaN</td>\n",
       "      <td>...</td>\n",
       "      <td>Efforts to spread false claims on the origins ...</td>\n",
       "      <td>Individual actor</td>\n",
       "      <td>General public</td>\n",
       "      <td>Youtube</td>\n",
       "      <td>Conspiracy</td>\n",
       "      <td>Coronavirus, India, bat soup</td>\n",
       "      <td>Hindi language Youtube account suggesting COVI...</td>\n",
       "      <td>Jan</td>\n",
       "      <td>NaN</td>\n",
       "      <td>NaN</td>\n",
       "    </tr>\n",
       "    <tr>\n",
       "      <th>1</th>\n",
       "      <td>2</td>\n",
       "      <td>https://twitter.com/Rangoli_A/status/122779241...</td>\n",
       "      <td>NaN</td>\n",
       "      <td>NaN</td>\n",
       "      <td>NaN</td>\n",
       "      <td>NaN</td>\n",
       "      <td>1.0</td>\n",
       "      <td>https://twitter.com/Rangoli_A/status/122779241...</td>\n",
       "      <td>NaN</td>\n",
       "      <td>NaN</td>\n",
       "      <td>...</td>\n",
       "      <td>Twitter user stoking fear among other users, s...</td>\n",
       "      <td>Individual actor</td>\n",
       "      <td>General public</td>\n",
       "      <td>Twitter</td>\n",
       "      <td>False reporting</td>\n",
       "      <td>Coronavirus, China, shooting</td>\n",
       "      <td>Tweet with video showing \"people getting shot ...</td>\n",
       "      <td>Jan</td>\n",
       "      <td>NaN</td>\n",
       "      <td>NaN</td>\n",
       "    </tr>\n",
       "    <tr>\n",
       "      <th>2</th>\n",
       "      <td>3</td>\n",
       "      <td>https://twitter.com/Woppa1Woppa/status/1220068...</td>\n",
       "      <td>NaN</td>\n",
       "      <td>NaN</td>\n",
       "      <td>NaN</td>\n",
       "      <td>NaN</td>\n",
       "      <td>1.0</td>\n",
       "      <td>https://twitter.com/Woppa1Woppa/status/1220068...</td>\n",
       "      <td>NaN</td>\n",
       "      <td>NaN</td>\n",
       "      <td>...</td>\n",
       "      <td>Twitter user discrediting Chinese-American pop...</td>\n",
       "      <td>Individual actor</td>\n",
       "      <td>General public</td>\n",
       "      <td>Twitter</td>\n",
       "      <td>False reporting</td>\n",
       "      <td>Coronavirus, Chinese food, bat soup</td>\n",
       "      <td>Video of an individual eating a delicacy, and ...</td>\n",
       "      <td>Jan</td>\n",
       "      <td>NaN</td>\n",
       "      <td>NaN</td>\n",
       "    </tr>\n",
       "    <tr>\n",
       "      <th>3</th>\n",
       "      <td>4</td>\n",
       "      <td>https://twitter.com/FreddiGoldstein/status/123...</td>\n",
       "      <td>NaN</td>\n",
       "      <td>NaN</td>\n",
       "      <td>NaN</td>\n",
       "      <td>NaN</td>\n",
       "      <td>1.0</td>\n",
       "      <td>https://twitter.com/FreddiGoldstein/status/123...</td>\n",
       "      <td>NaN</td>\n",
       "      <td>NaN</td>\n",
       "      <td>...</td>\n",
       "      <td>Chain message spread to stoke fear among Ameri...</td>\n",
       "      <td>Individual actor</td>\n",
       "      <td>General public</td>\n",
       "      <td>Media, SMS</td>\n",
       "      <td>False reporting</td>\n",
       "      <td>Coronavirus, NYPD, containment zone</td>\n",
       "      <td>Tweet with a screenshot of chain message sugge...</td>\n",
       "      <td>Jan</td>\n",
       "      <td>NaN</td>\n",
       "      <td>NaN</td>\n",
       "    </tr>\n",
       "    <tr>\n",
       "      <th>4</th>\n",
       "      <td>5</td>\n",
       "      <td>https://www.boomlive.in/health/hoax-alert-vira...</td>\n",
       "      <td>NaN</td>\n",
       "      <td>https://www.boomlive.in/health/hoax-alert-vira...</td>\n",
       "      <td>NaN</td>\n",
       "      <td>NaN</td>\n",
       "      <td>0.0</td>\n",
       "      <td>NaN</td>\n",
       "      <td>NaN</td>\n",
       "      <td>NaN</td>\n",
       "      <td>...</td>\n",
       "      <td>Chain message spread to stoke fear among India...</td>\n",
       "      <td>Individual actor</td>\n",
       "      <td>General public</td>\n",
       "      <td>Facebook, WhatsApp</td>\n",
       "      <td>False reporting</td>\n",
       "      <td>Coronavirus, India, travel advisory</td>\n",
       "      <td>WhatsApp chain message circulating among India...</td>\n",
       "      <td>Jan</td>\n",
       "      <td>NaN</td>\n",
       "      <td>NaN</td>\n",
       "    </tr>\n",
       "  </tbody>\n",
       "</table>\n",
       "<p>5 rows × 34 columns</p>\n",
       "</div>"
      ],
      "text/plain": [
       "   s_no                                        Reported_On  \\\n",
       "0     1  https://www.buzzfeednews.com/article/ryanhates...   \n",
       "1     2  https://twitter.com/Rangoli_A/status/122779241...   \n",
       "2     3  https://twitter.com/Woppa1Woppa/status/1220068...   \n",
       "3     4  https://twitter.com/FreddiGoldstein/status/123...   \n",
       "4     5  https://www.boomlive.in/health/hoax-alert-vira...   \n",
       "\n",
       "  Additional_Reporting                                    Retrieve_from_1  \\\n",
       "0                  NaN  https://www.buzzfeednews.com/article/ryanhates...   \n",
       "1                  NaN                                                NaN   \n",
       "2                  NaN                                                NaN   \n",
       "3                  NaN                                                NaN   \n",
       "4                  NaN  https://www.boomlive.in/health/hoax-alert-vira...   \n",
       "\n",
       "  Retrieve_from_2 Retrieve_from_3  Twitter_Reference  \\\n",
       "0             NaN             NaN                0.0   \n",
       "1             NaN             NaN                1.0   \n",
       "2             NaN             NaN                1.0   \n",
       "3             NaN             NaN                1.0   \n",
       "4             NaN             NaN                0.0   \n",
       "\n",
       "                                       Direct_Post_1 Direct_Post_2  \\\n",
       "0                                                NaN           NaN   \n",
       "1  https://twitter.com/Rangoli_A/status/122779241...           NaN   \n",
       "2  https://twitter.com/Woppa1Woppa/status/1220068...           NaN   \n",
       "3  https://twitter.com/FreddiGoldstein/status/123...           NaN   \n",
       "4                                                NaN           NaN   \n",
       "\n",
       "  Direct_Post_3  ...                                 Motive_Description  \\\n",
       "0           NaN  ...  Efforts to spread false claims on the origins ...   \n",
       "1           NaN  ...  Twitter user stoking fear among other users, s...   \n",
       "2           NaN  ...  Twitter user discrediting Chinese-American pop...   \n",
       "3           NaN  ...  Chain message spread to stoke fear among Ameri...   \n",
       "4           NaN  ...  Chain message spread to stoke fear among India...   \n",
       "\n",
       "             Source Source_Description     Distrib_Channel     Misinfo_Type  \\\n",
       "0  Individual actor     General public             Youtube       Conspiracy   \n",
       "1  Individual actor     General public             Twitter  False reporting   \n",
       "2  Individual actor     General public             Twitter  False reporting   \n",
       "3  Individual actor     General public          Media, SMS  False reporting   \n",
       "4  Individual actor     General public  Facebook, WhatsApp  False reporting   \n",
       "\n",
       "                             Key_Words  \\\n",
       "0         Coronavirus, India, bat soup   \n",
       "1         Coronavirus, China, shooting   \n",
       "2  Coronavirus, Chinese food, bat soup   \n",
       "3  Coronavirus, NYPD, containment zone   \n",
       "4  Coronavirus, India, travel advisory   \n",
       "\n",
       "                                             Summary Coder Notes Region  \n",
       "0  Hindi language Youtube account suggesting COVI...   Jan   NaN    NaN  \n",
       "1  Tweet with video showing \"people getting shot ...   Jan   NaN    NaN  \n",
       "2  Video of an individual eating a delicacy, and ...   Jan   NaN    NaN  \n",
       "3  Tweet with a screenshot of chain message sugge...   Jan   NaN    NaN  \n",
       "4  WhatsApp chain message circulating among India...   Jan   NaN    NaN  \n",
       "\n",
       "[5 rows x 34 columns]"
      ]
     },
     "execution_count": 16,
     "metadata": {},
     "output_type": "execute_result"
    }
   ],
   "source": [
    "df3_jns.head()"
   ]
  },
  {
   "cell_type": "code",
   "execution_count": 17,
   "metadata": {},
   "outputs": [
    {
     "data": {
      "text/html": [
       "<div>\n",
       "<style scoped>\n",
       "    .dataframe tbody tr th:only-of-type {\n",
       "        vertical-align: middle;\n",
       "    }\n",
       "\n",
       "    .dataframe tbody tr th {\n",
       "        vertical-align: top;\n",
       "    }\n",
       "\n",
       "    .dataframe thead th {\n",
       "        text-align: right;\n",
       "    }\n",
       "</style>\n",
       "<table border=\"1\" class=\"dataframe\">\n",
       "  <thead>\n",
       "    <tr style=\"text-align: right;\">\n",
       "      <th></th>\n",
       "      <th>Source</th>\n",
       "    </tr>\n",
       "    <tr>\n",
       "      <th>Misinfo_Type</th>\n",
       "      <th></th>\n",
       "    </tr>\n",
       "  </thead>\n",
       "  <tbody>\n",
       "    <tr>\n",
       "      <th>Conspiracy</th>\n",
       "      <td>966</td>\n",
       "    </tr>\n",
       "    <tr>\n",
       "      <th>Conspiracy, Fake remedy</th>\n",
       "      <td>1</td>\n",
       "    </tr>\n",
       "    <tr>\n",
       "      <th>Conspiracy, False reporting</th>\n",
       "      <td>5</td>\n",
       "    </tr>\n",
       "    <tr>\n",
       "      <th>Fake remedy</th>\n",
       "      <td>502</td>\n",
       "    </tr>\n",
       "    <tr>\n",
       "      <th>Fake remedy, False reporting</th>\n",
       "      <td>1</td>\n",
       "    </tr>\n",
       "    <tr>\n",
       "      <th>Fake remedy, conspiracy</th>\n",
       "      <td>1</td>\n",
       "    </tr>\n",
       "    <tr>\n",
       "      <th>Fake remedy, false reporting</th>\n",
       "      <td>2</td>\n",
       "    </tr>\n",
       "    <tr>\n",
       "      <th>False Reporting</th>\n",
       "      <td>3</td>\n",
       "    </tr>\n",
       "    <tr>\n",
       "      <th>False reporting</th>\n",
       "      <td>4123</td>\n",
       "    </tr>\n",
       "    <tr>\n",
       "      <th>False reporting, Conspiracy</th>\n",
       "      <td>1</td>\n",
       "    </tr>\n",
       "    <tr>\n",
       "      <th>False reporting, Fake remedy</th>\n",
       "      <td>1</td>\n",
       "    </tr>\n",
       "    <tr>\n",
       "      <th>false reporting</th>\n",
       "      <td>3</td>\n",
       "    </tr>\n",
       "  </tbody>\n",
       "</table>\n",
       "</div>"
      ],
      "text/plain": [
       "                              Source\n",
       "Misinfo_Type                        \n",
       "Conspiracy                       966\n",
       "Conspiracy, Fake remedy            1\n",
       "Conspiracy, False reporting        5\n",
       "Fake remedy                      502\n",
       "Fake remedy, False reporting       1\n",
       "Fake remedy, conspiracy            1\n",
       "Fake remedy, false reporting       2\n",
       "False Reporting                    3\n",
       "False reporting                 4123\n",
       "False reporting, Conspiracy        1\n",
       "False reporting, Fake remedy       1\n",
       "false reporting                    3"
      ]
     },
     "execution_count": 17,
     "metadata": {},
     "output_type": "execute_result"
    }
   ],
   "source": [
    "df3_jns[[\"Source\",\"Misinfo_Type\"]].groupby(\"Misinfo_Type\").count()"
   ]
  },
  {
   "cell_type": "code",
   "execution_count": 18,
   "metadata": {},
   "outputs": [
    {
     "data": {
      "text/plain": [
       "'Hindi language Youtube account suggesting COVID-19 came from \"Chinese people eating bat soup.\"'"
      ]
     },
     "execution_count": 18,
     "metadata": {},
     "output_type": "execute_result"
    }
   ],
   "source": [
    "df3_jns[\"Summary\"].iloc[0]"
   ]
  },
  {
   "cell_type": "code",
   "execution_count": 19,
   "metadata": {},
   "outputs": [
    {
     "data": {
      "text/plain": [
       "'Twitter user stoking fear among other users, suggesting violent reactions to COVID-19.'"
      ]
     },
     "execution_count": 19,
     "metadata": {},
     "output_type": "execute_result"
    }
   ],
   "source": [
    "df3_jns[\"Motive_Description\"].iloc[1]"
   ]
  },
  {
   "cell_type": "code",
   "execution_count": 20,
   "metadata": {},
   "outputs": [
    {
     "data": {
      "text/plain": [
       "'https://www.boomlive.in/health/hoax-alert-viral-emergency-notification-on-coronavirus-is-fake-6682'"
      ]
     },
     "execution_count": 20,
     "metadata": {},
     "output_type": "execute_result"
    }
   ],
   "source": [
    "df3_jns[\"Reported_On\"].iloc[4]"
   ]
  },
  {
   "cell_type": "markdown",
   "metadata": {},
   "source": [
    "This dataset accumulates the COVID 19 misinfo events. This means two things.\n",
    "\n",
    "1. The raw text itself is not available but inside URL links which could not be accessible eg. Twitter (X).\n",
    "2. The text is about reporting misinformation rather than the misinfo text itself.\n",
    "\n",
    "There might be a use for this dataset for example, mapping a COVID19 text and check for misconception and common misinformation throught this dataset."
   ]
  },
  {
   "cell_type": "code",
   "execution_count": 21,
   "metadata": {},
   "outputs": [],
   "source": [
    "df3_urls = pd.read_excel(\"raw_data/CovidMisInfo/COVID_Disinformation_URLs_2020-04-10.xlsx\")"
   ]
  },
  {
   "cell_type": "code",
   "execution_count": 22,
   "metadata": {},
   "outputs": [
    {
     "data": {
      "text/html": [
       "<div>\n",
       "<style scoped>\n",
       "    .dataframe tbody tr th:only-of-type {\n",
       "        vertical-align: middle;\n",
       "    }\n",
       "\n",
       "    .dataframe tbody tr th {\n",
       "        vertical-align: top;\n",
       "    }\n",
       "\n",
       "    .dataframe thead th {\n",
       "        text-align: right;\n",
       "    }\n",
       "</style>\n",
       "<table border=\"1\" class=\"dataframe\">\n",
       "  <thead>\n",
       "    <tr style=\"text-align: right;\">\n",
       "      <th></th>\n",
       "      <th>Serial Number</th>\n",
       "      <th>Claim</th>\n",
       "      <th>URL</th>\n",
       "      <th>Date Entered</th>\n",
       "      <th>Source</th>\n",
       "      <th>Coder</th>\n",
       "      <th>Unnamed: 6</th>\n",
       "    </tr>\n",
       "  </thead>\n",
       "  <tbody>\n",
       "    <tr>\n",
       "      <th>0</th>\n",
       "      <td>1</td>\n",
       "      <td>COVID-19 as a bio-weapon created by the Commun...</td>\n",
       "      <td>https://www.rushlimbaugh.com/daily/2020/02/24/...</td>\n",
       "      <td>2020-03-23</td>\n",
       "      <td>https://www.rushlimbaugh.com/daily/2020/02/24/...</td>\n",
       "      <td>Luca</td>\n",
       "      <td>NaN</td>\n",
       "    </tr>\n",
       "    <tr>\n",
       "      <th>1</th>\n",
       "      <td>2</td>\n",
       "      <td>Two companies claim they can \"eradicate COVID-...</td>\n",
       "      <td>https://www.protectedrestoration.com/virus-mit...</td>\n",
       "      <td>2020-03-23</td>\n",
       "      <td>https://www.click2houston.com/health/2020/03/1...</td>\n",
       "      <td>Luca</td>\n",
       "      <td>NaN</td>\n",
       "    </tr>\n",
       "    <tr>\n",
       "      <th>2</th>\n",
       "      <td>3</td>\n",
       "      <td>Individuals pretended to be officials of WHO, ...</td>\n",
       "      <td>https://securityboulevard.com/2020/03/coronavi...</td>\n",
       "      <td>2020-03-23</td>\n",
       "      <td>https://securityboulevard.com/2020/03/coronavi...</td>\n",
       "      <td>Luca</td>\n",
       "      <td>NaN</td>\n",
       "    </tr>\n",
       "    <tr>\n",
       "      <th>3</th>\n",
       "      <td>4</td>\n",
       "      <td>COVID-19 as a bio-weapon created by the US in ...</td>\n",
       "      <td>https://www.vipnoviny.cz/kdo-stoji-za-vznikem-...</td>\n",
       "      <td>2020-03-23</td>\n",
       "      <td>https://cesti-elfove.cz/mimoradny-report-dezin...</td>\n",
       "      <td>Luca</td>\n",
       "      <td>NaN</td>\n",
       "    </tr>\n",
       "    <tr>\n",
       "      <th>4</th>\n",
       "      <td>5</td>\n",
       "      <td>A \"nano-silver\" toothpaste as a remedy for Cov...</td>\n",
       "      <td>https://www.infowarsstore.com/super-blue-fluor...</td>\n",
       "      <td>2020-03-24</td>\n",
       "      <td>https://qz.com/1818606/alex-jones-ordered-to-s...</td>\n",
       "      <td>Luca</td>\n",
       "      <td>NaN</td>\n",
       "    </tr>\n",
       "  </tbody>\n",
       "</table>\n",
       "</div>"
      ],
      "text/plain": [
       "   Serial Number                                              Claim  \\\n",
       "0              1  COVID-19 as a bio-weapon created by the Commun...   \n",
       "1              2  Two companies claim they can \"eradicate COVID-...   \n",
       "2              3  Individuals pretended to be officials of WHO, ...   \n",
       "3              4  COVID-19 as a bio-weapon created by the US in ...   \n",
       "4              5  A \"nano-silver\" toothpaste as a remedy for Cov...   \n",
       "\n",
       "                                                 URL Date Entered  \\\n",
       "0  https://www.rushlimbaugh.com/daily/2020/02/24/...   2020-03-23   \n",
       "1  https://www.protectedrestoration.com/virus-mit...   2020-03-23   \n",
       "2  https://securityboulevard.com/2020/03/coronavi...   2020-03-23   \n",
       "3  https://www.vipnoviny.cz/kdo-stoji-za-vznikem-...   2020-03-23   \n",
       "4  https://www.infowarsstore.com/super-blue-fluor...   2020-03-24   \n",
       "\n",
       "                                              Source Coder Unnamed: 6  \n",
       "0  https://www.rushlimbaugh.com/daily/2020/02/24/...  Luca        NaN  \n",
       "1  https://www.click2houston.com/health/2020/03/1...  Luca        NaN  \n",
       "2  https://securityboulevard.com/2020/03/coronavi...  Luca        NaN  \n",
       "3  https://cesti-elfove.cz/mimoradny-report-dezin...  Luca        NaN  \n",
       "4  https://qz.com/1818606/alex-jones-ordered-to-s...  Luca        NaN  "
      ]
     },
     "execution_count": 22,
     "metadata": {},
     "output_type": "execute_result"
    }
   ],
   "source": [
    "df3_urls.head()"
   ]
  },
  {
   "cell_type": "code",
   "execution_count": 23,
   "metadata": {},
   "outputs": [
    {
     "data": {
      "text/plain": [
       "'Joe Biden tested positive for COVID'"
      ]
     },
     "execution_count": 23,
     "metadata": {},
     "output_type": "execute_result"
    }
   ],
   "source": [
    "df3_urls[\"Claim\"].iloc[10]"
   ]
  },
  {
   "cell_type": "code",
   "execution_count": 24,
   "metadata": {},
   "outputs": [
    {
     "data": {
      "text/plain": [
       "'http://ucrtv.com/usa-presidential-candidate-joe-biden-tests-positive-to-coronavirus/'"
      ]
     },
     "execution_count": 24,
     "metadata": {},
     "output_type": "execute_result"
    }
   ],
   "source": [
    "df3_urls[\"URL\"].iloc[10]"
   ]
  },
  {
   "cell_type": "code",
   "execution_count": 25,
   "metadata": {},
   "outputs": [
    {
     "data": {
      "text/plain": [
       "213"
      ]
     },
     "execution_count": 25,
     "metadata": {},
     "output_type": "execute_result"
    }
   ],
   "source": [
    "len(df3_urls)"
   ]
  },
  {
   "cell_type": "markdown",
   "metadata": {},
   "source": [
    "This dataset is also interesting as it contains the claim of the misinfo. However, it is not a dataset with real and fake data i.e. unlabelled. Also its very small. The dataset also gives links to the data which we will need to scrape (a lot of the site already taken down the data)."
   ]
  },
  {
   "cell_type": "markdown",
   "metadata": {},
   "source": [
    "## MisInfo79\n",
    "\n",
    "This is similar to the first one\n",
    "\n",
    "Source: https://www.kaggle.com/datasets/stevenpeutz/misinformation-fake-news-text-dataset-79k/data"
   ]
  },
  {
   "cell_type": "code",
   "execution_count": 26,
   "metadata": {},
   "outputs": [],
   "source": [
    "df4_misinfo79_fake = pd.read_csv(\"raw_data/MisInfo79k/DataSet_Misinfo_FAKE.csv\")\n",
    "df4_misinfo79_real = pd.read_csv(\"raw_data/MisInfo79k/DataSet_Misinfo_TRUE.csv\")"
   ]
  },
  {
   "cell_type": "code",
   "execution_count": 27,
   "metadata": {},
   "outputs": [
    {
     "name": "stdout",
     "output_type": "stream",
     "text": [
      "length of fake:  43642\n",
      "length of real:  34975\n"
     ]
    }
   ],
   "source": [
    "print(\"length of fake: \", len(df4_misinfo79_fake))\n",
    "print(\"length of real: \", len(df4_misinfo79_real))"
   ]
  },
  {
   "cell_type": "code",
   "execution_count": 28,
   "metadata": {},
   "outputs": [
    {
     "data": {
      "text/html": [
       "<div>\n",
       "<style scoped>\n",
       "    .dataframe tbody tr th:only-of-type {\n",
       "        vertical-align: middle;\n",
       "    }\n",
       "\n",
       "    .dataframe tbody tr th {\n",
       "        vertical-align: top;\n",
       "    }\n",
       "\n",
       "    .dataframe thead th {\n",
       "        text-align: right;\n",
       "    }\n",
       "</style>\n",
       "<table border=\"1\" class=\"dataframe\">\n",
       "  <thead>\n",
       "    <tr style=\"text-align: right;\">\n",
       "      <th></th>\n",
       "      <th>Unnamed: 0</th>\n",
       "      <th>text</th>\n",
       "    </tr>\n",
       "  </thead>\n",
       "  <tbody>\n",
       "    <tr>\n",
       "      <th>0</th>\n",
       "      <td>0</td>\n",
       "      <td>Donald Trump just couldn t wish all Americans ...</td>\n",
       "    </tr>\n",
       "    <tr>\n",
       "      <th>1</th>\n",
       "      <td>1</td>\n",
       "      <td>House Intelligence Committee Chairman Devin Nu...</td>\n",
       "    </tr>\n",
       "    <tr>\n",
       "      <th>2</th>\n",
       "      <td>2</td>\n",
       "      <td>On Friday, it was revealed that former Milwauk...</td>\n",
       "    </tr>\n",
       "    <tr>\n",
       "      <th>3</th>\n",
       "      <td>3</td>\n",
       "      <td>On Christmas day, Donald Trump announced that ...</td>\n",
       "    </tr>\n",
       "    <tr>\n",
       "      <th>4</th>\n",
       "      <td>4</td>\n",
       "      <td>Pope Francis used his annual Christmas Day mes...</td>\n",
       "    </tr>\n",
       "  </tbody>\n",
       "</table>\n",
       "</div>"
      ],
      "text/plain": [
       "   Unnamed: 0                                               text\n",
       "0           0  Donald Trump just couldn t wish all Americans ...\n",
       "1           1  House Intelligence Committee Chairman Devin Nu...\n",
       "2           2  On Friday, it was revealed that former Milwauk...\n",
       "3           3  On Christmas day, Donald Trump announced that ...\n",
       "4           4  Pope Francis used his annual Christmas Day mes..."
      ]
     },
     "execution_count": 28,
     "metadata": {},
     "output_type": "execute_result"
    }
   ],
   "source": [
    "df4_misinfo79_fake.head()"
   ]
  },
  {
   "cell_type": "code",
   "execution_count": 29,
   "metadata": {},
   "outputs": [
    {
     "data": {
      "text/plain": [
       "'Pope Francis used his annual Christmas Day message to rebuke Donald Trump without even mentioning his name. The Pope delivered his message just days after members of the United Nations condemned Trump s move to recognize Jerusalem as the capital of Israel. The Pontiff prayed on Monday for the  peaceful coexistence of two states within mutually agreed and internationally recognized borders. We see Jesus in the children of the Middle East who continue to suffer because of growing tensions between Israelis and Palestinians,  Francis said.  On this festive day, let us ask the Lord for peace for Jerusalem and for all the Holy Land. Let us pray that the will to resume dialogue may prevail between the parties and that a negotiated solution can finally be reached. The Pope went on to plead for acceptance of refugees who have been forced from their homes, and that is an issue Trump continues to fight against. Francis used Jesus for which there was  no place in the inn  as an analogy. Today, as the winds of war are blowing in our world and an outdated model of development continues to produce human, societal and environmental decline, Christmas invites us to focus on the sign of the Child and to recognize him in the faces of little children, especially those for whom, like Jesus,  there is no place in the inn,  he said. Jesus knows well the pain of not being welcomed and how hard it is not to have a place to lay one s head,  he added.  May our hearts not be closed as they were in the homes of Bethlehem. The Pope said that Mary and Joseph were immigrants who struggled to find a safe place to stay in Bethlehem. They had to leave their people, their home, and their land,  Francis said.  This was no comfortable or easy journey for a young couple about to have a child.   At heart, they were full of hope and expectation because of the child about to be born; yet their steps were weighed down by the uncertainties and dangers that attend those who have to leave their home behind. So many other footsteps are hidden in the footsteps of Joseph and Mary,  Francis said Sunday. We see the tracks of entire families forced to set out in our own day. We see the tracks of millions of persons who do not choose to go away, but driven from their land, leave behind their dear ones. Amen to that.Photo by Christopher Furlong/Getty Images.'"
      ]
     },
     "execution_count": 29,
     "metadata": {},
     "output_type": "execute_result"
    }
   ],
   "source": [
    "df4_misinfo79_fake[\"text\"].iloc[4]"
   ]
  },
  {
   "cell_type": "code",
   "execution_count": 30,
   "metadata": {},
   "outputs": [
    {
     "data": {
      "text/html": [
       "<div>\n",
       "<style scoped>\n",
       "    .dataframe tbody tr th:only-of-type {\n",
       "        vertical-align: middle;\n",
       "    }\n",
       "\n",
       "    .dataframe tbody tr th {\n",
       "        vertical-align: top;\n",
       "    }\n",
       "\n",
       "    .dataframe thead th {\n",
       "        text-align: right;\n",
       "    }\n",
       "</style>\n",
       "<table border=\"1\" class=\"dataframe\">\n",
       "  <thead>\n",
       "    <tr style=\"text-align: right;\">\n",
       "      <th></th>\n",
       "      <th>Unnamed: 0</th>\n",
       "      <th>text</th>\n",
       "    </tr>\n",
       "  </thead>\n",
       "  <tbody>\n",
       "    <tr>\n",
       "      <th>0</th>\n",
       "      <td>0</td>\n",
       "      <td>The head of a conservative Republican faction ...</td>\n",
       "    </tr>\n",
       "    <tr>\n",
       "      <th>1</th>\n",
       "      <td>1</td>\n",
       "      <td>Transgender people will be allowed for the fir...</td>\n",
       "    </tr>\n",
       "    <tr>\n",
       "      <th>2</th>\n",
       "      <td>2</td>\n",
       "      <td>The special counsel investigation of links bet...</td>\n",
       "    </tr>\n",
       "    <tr>\n",
       "      <th>3</th>\n",
       "      <td>3</td>\n",
       "      <td>Trump campaign adviser George Papadopoulos tol...</td>\n",
       "    </tr>\n",
       "    <tr>\n",
       "      <th>4</th>\n",
       "      <td>4</td>\n",
       "      <td>President Donald Trump called on the U.S. Post...</td>\n",
       "    </tr>\n",
       "  </tbody>\n",
       "</table>\n",
       "</div>"
      ],
      "text/plain": [
       "   Unnamed: 0                                               text\n",
       "0           0  The head of a conservative Republican faction ...\n",
       "1           1  Transgender people will be allowed for the fir...\n",
       "2           2  The special counsel investigation of links bet...\n",
       "3           3  Trump campaign adviser George Papadopoulos tol...\n",
       "4           4  President Donald Trump called on the U.S. Post..."
      ]
     },
     "execution_count": 30,
     "metadata": {},
     "output_type": "execute_result"
    }
   ],
   "source": [
    "df4_misinfo79_real.head()"
   ]
  },
  {
   "cell_type": "code",
   "execution_count": null,
   "metadata": {},
   "outputs": [
    {
     "data": {
      "text/plain": [
       "5172"
      ]
     },
     "execution_count": 34,
     "metadata": {},
     "output_type": "execute_result"
    }
   ],
   "source": [
    "len(df4_misinfo79_real[\"text\"].iloc[4])"
   ]
  },
  {
   "cell_type": "markdown",
   "metadata": {},
   "source": [
    "## WelFake\n",
    "\n",
    "Source: https://www.kaggle.com/datasets/saurabhshahane/fake-news-classification\n",
    "\n",
    "1 means real and 0 means fake"
   ]
  },
  {
   "cell_type": "code",
   "execution_count": 32,
   "metadata": {},
   "outputs": [],
   "source": [
    "df5_welfake = pd.read_csv(\"raw_data/WelFake/WELFake_Dataset.csv\")"
   ]
  },
  {
   "cell_type": "code",
   "execution_count": 33,
   "metadata": {},
   "outputs": [
    {
     "data": {
      "text/html": [
       "<div>\n",
       "<style scoped>\n",
       "    .dataframe tbody tr th:only-of-type {\n",
       "        vertical-align: middle;\n",
       "    }\n",
       "\n",
       "    .dataframe tbody tr th {\n",
       "        vertical-align: top;\n",
       "    }\n",
       "\n",
       "    .dataframe thead th {\n",
       "        text-align: right;\n",
       "    }\n",
       "</style>\n",
       "<table border=\"1\" class=\"dataframe\">\n",
       "  <thead>\n",
       "    <tr style=\"text-align: right;\">\n",
       "      <th></th>\n",
       "      <th>Unnamed: 0</th>\n",
       "      <th>title</th>\n",
       "      <th>text</th>\n",
       "      <th>label</th>\n",
       "    </tr>\n",
       "  </thead>\n",
       "  <tbody>\n",
       "    <tr>\n",
       "      <th>0</th>\n",
       "      <td>0</td>\n",
       "      <td>LAW ENFORCEMENT ON HIGH ALERT Following Threat...</td>\n",
       "      <td>No comment is expected from Barack Obama Membe...</td>\n",
       "      <td>1</td>\n",
       "    </tr>\n",
       "    <tr>\n",
       "      <th>1</th>\n",
       "      <td>1</td>\n",
       "      <td>NaN</td>\n",
       "      <td>Did they post their votes for Hillary already?</td>\n",
       "      <td>1</td>\n",
       "    </tr>\n",
       "    <tr>\n",
       "      <th>2</th>\n",
       "      <td>2</td>\n",
       "      <td>UNBELIEVABLE! OBAMA’S ATTORNEY GENERAL SAYS MO...</td>\n",
       "      <td>Now, most of the demonstrators gathered last ...</td>\n",
       "      <td>1</td>\n",
       "    </tr>\n",
       "    <tr>\n",
       "      <th>3</th>\n",
       "      <td>3</td>\n",
       "      <td>Bobby Jindal, raised Hindu, uses story of Chri...</td>\n",
       "      <td>A dozen politically active pastors came here f...</td>\n",
       "      <td>0</td>\n",
       "    </tr>\n",
       "    <tr>\n",
       "      <th>4</th>\n",
       "      <td>4</td>\n",
       "      <td>SATAN 2: Russia unvelis an image of its terrif...</td>\n",
       "      <td>The RS-28 Sarmat missile, dubbed Satan 2, will...</td>\n",
       "      <td>1</td>\n",
       "    </tr>\n",
       "  </tbody>\n",
       "</table>\n",
       "</div>"
      ],
      "text/plain": [
       "   Unnamed: 0                                              title  \\\n",
       "0           0  LAW ENFORCEMENT ON HIGH ALERT Following Threat...   \n",
       "1           1                                                NaN   \n",
       "2           2  UNBELIEVABLE! OBAMA’S ATTORNEY GENERAL SAYS MO...   \n",
       "3           3  Bobby Jindal, raised Hindu, uses story of Chri...   \n",
       "4           4  SATAN 2: Russia unvelis an image of its terrif...   \n",
       "\n",
       "                                                text  label  \n",
       "0  No comment is expected from Barack Obama Membe...      1  \n",
       "1     Did they post their votes for Hillary already?      1  \n",
       "2   Now, most of the demonstrators gathered last ...      1  \n",
       "3  A dozen politically active pastors came here f...      0  \n",
       "4  The RS-28 Sarmat missile, dubbed Satan 2, will...      1  "
      ]
     },
     "execution_count": 33,
     "metadata": {},
     "output_type": "execute_result"
    }
   ],
   "source": [
    "df5_welfake.head()"
   ]
  },
  {
   "cell_type": "code",
   "execution_count": 35,
   "metadata": {},
   "outputs": [
    {
     "data": {
      "text/plain": [
       "Unnamed: 0      0\n",
       "title         558\n",
       "text           39\n",
       "label           0\n",
       "dtype: int64"
      ]
     },
     "execution_count": 35,
     "metadata": {},
     "output_type": "execute_result"
    }
   ],
   "source": [
    "df5_welfake.isna().sum()"
   ]
  },
  {
   "cell_type": "code",
   "execution_count": 37,
   "metadata": {},
   "outputs": [
    {
     "data": {
      "text/plain": [
       "72134"
      ]
     },
     "execution_count": 37,
     "metadata": {},
     "output_type": "execute_result"
    }
   ],
   "source": [
    "len(df5_welfake)"
   ]
  },
  {
   "cell_type": "code",
   "execution_count": 38,
   "metadata": {},
   "outputs": [
    {
     "data": {
      "text/plain": [
       "'No comment is expected from Barack Obama Members of the #FYF911 or #FukYoFlag and #BlackLivesMatter movements called for the lynching and hanging of white people and cops. They encouraged others on a radio show Tuesday night to  turn the tide  and kill white people and cops to send a message about the killing of black people in America.One of the F***YoFlag organizers is called  Sunshine.  She has a radio blog show hosted from Texas called,  Sunshine s F***ing Opinion Radio Show. A snapshot of her #FYF911 @LOLatWhiteFear Twitter page at 9:53 p.m. shows that she was urging supporters to  Call now!! #fyf911 tonight we continue to dismantle the illusion of white Below is a SNAPSHOT Twitter Radio Call Invite   #FYF911The radio show aired at 10:00 p.m. eastern standard time.During the show, callers clearly call for  lynching  and  killing  of white people.A 2:39 minute clip from the radio show can be heard here. It was provided to Breitbart Texas by someone who would like to be referred to as  Hannibal.  He has already received death threats as a result of interrupting #FYF911 conference calls.An unidentified black man said  when those mother f**kers are by themselves, that s when when we should start f***ing them up. Like they do us, when a bunch of them ni**ers takin  one of us out, that s how we should roll up.  He said,  Cause we already roll up in gangs anyway. There should be six or seven black mother f**ckers, see that white person, and then lynch their ass. Let s turn the tables. They conspired that if  cops started losing people,  then  there will be a state of emergency. He speculated that one of two things would happen,  a big-ass [R s?????] war,  or  ni**ers, they are going to start backin  up. We are already getting killed out here so what the f**k we got to lose? Sunshine could be heard saying,  Yep, that s true. That s so f**king true. He said,  We need to turn the tables on them. Our kids are getting shot out here. Somebody needs to become a sacrifice on their side.He said,  Everybody ain t down for that s**t, or whatever, but like I say, everybody has a different position of war.  He continued,  Because they don t give a f**k anyway.  He said again,  We might as well utilized them for that s**t and turn the tables on these n**ers. He said, that way  we can start lookin  like we ain t havin  that many casualties, and there can be more causalities on their side instead of ours. They are out their killing black people, black lives don t matter, that s what those mother f**kers   so we got to make it matter to them. Find a mother f**ker that is alone. Snap his ass, and then f***in hang him from a damn tree. Take a picture of it and then send it to the mother f**kers. We  just need one example,  and  then people will start watchin .  This will turn the tables on s**t, he said. He said this will start  a trickle-down effect.  He said that when one white person is hung and then they are just  flat-hanging,  that will start the  trickle-down effect.  He continued,  Black people are good at starting trends. He said that was how  to get the upper-hand. Another black man spoke up saying they needed to kill  cops that are killing us. The first black male said,  That will be the best method right there. Breitbart Texas previously reported how Sunshine was upset when  racist white people  infiltrated and disrupted one of her conference calls. She subsequently released the phone number of one of the infiltrators. The veteran immediately started receiving threatening calls.One of the #F***YoFlag movement supporters allegedly told a veteran who infiltrated their publicly posted conference call,  We are going to rape and gut your pregnant wife, and your f***ing piece of sh*t unborn creature will be hung from a tree. Breitbart Texas previously encountered Sunshine at a Sandra Bland protest at the Waller County Jail in Texas, where she said all white people should be killed. She told journalists and photographers,  You see this nappy-ass hair on my head?   That means I am one of those more militant Negroes.  She said she was at the protest because  these redneck mother-f**kers murdered Sandra Bland because she had nappy hair like me. #FYF911 black radicals say they will be holding the  imperial powers  that are actually responsible for the terrorist attacks on September 11th accountable on that day, as reported by Breitbart Texas. There are several websites and Twitter handles for the movement. Palmetto Star  describes himself as one of the head organizers. He said in a YouTube video that supporters will be burning their symbols of  the illusion of their superiority,  their  false white supremacy,  like the American flag, the British flag, police uniforms, and Ku Klux Klan hoods.Sierra McGrone or  Nocturnus Libertus  posted,  you too can help a young Afrikan clean their a** with the rag of oppression.  She posted two photos, one that appears to be herself, and a photo of a black man, wiping their naked butts with the American flag.For entire story: Breitbart News'"
      ]
     },
     "execution_count": 38,
     "metadata": {},
     "output_type": "execute_result"
    }
   ],
   "source": [
    "df5_welfake[\"text\"].iloc[0]"
   ]
  },
  {
   "cell_type": "code",
   "execution_count": null,
   "metadata": {},
   "outputs": [],
   "source": []
  }
 ],
 "metadata": {
  "kernelspec": {
   "display_name": "base",
   "language": "python",
   "name": "python3"
  },
  "language_info": {
   "codemirror_mode": {
    "name": "ipython",
    "version": 3
   },
   "file_extension": ".py",
   "mimetype": "text/x-python",
   "name": "python",
   "nbconvert_exporter": "python",
   "pygments_lexer": "ipython3",
   "version": "3.11.3"
  }
 },
 "nbformat": 4,
 "nbformat_minor": 2
}
